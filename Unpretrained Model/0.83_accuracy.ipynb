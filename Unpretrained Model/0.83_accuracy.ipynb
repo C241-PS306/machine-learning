{
  "cells": [
    {
      "cell_type": "markdown",
      "id": "5adb039b",
      "metadata": {
        "id": "5adb039b"
      },
      "source": [
        "# Model Klasifikasi Baju Layak dan Tidak Layak Menggunakan CNN Tanpa Pretraining"
      ]
    },
    {
      "cell_type": "code",
      "source": [
        "!pip install keras_preprocessing"
      ],
      "metadata": {
        "colab": {
          "base_uri": "https://localhost:8080/"
        },
        "id": "r44pXA-LAn8b",
        "outputId": "a6a0b556-fb85-4eaf-e22d-0c0efe8078b7"
      },
      "id": "r44pXA-LAn8b",
      "execution_count": 1,
      "outputs": [
        {
          "output_type": "stream",
          "name": "stdout",
          "text": [
            "Collecting keras_preprocessing\n",
            "  Downloading Keras_Preprocessing-1.1.2-py2.py3-none-any.whl (42 kB)\n",
            "\u001b[2K     \u001b[90m━━━━━━━━━━━━━━━━━━━━━━━━━━━━━━━━━━━━━━━━\u001b[0m \u001b[32m42.6/42.6 kB\u001b[0m \u001b[31m933.6 kB/s\u001b[0m eta \u001b[36m0:00:00\u001b[0m\n",
            "\u001b[?25hRequirement already satisfied: numpy>=1.9.1 in /usr/local/lib/python3.10/dist-packages (from keras_preprocessing) (1.25.2)\n",
            "Requirement already satisfied: six>=1.9.0 in /usr/local/lib/python3.10/dist-packages (from keras_preprocessing) (1.16.0)\n",
            "Installing collected packages: keras_preprocessing\n",
            "Successfully installed keras_preprocessing-1.1.2\n"
          ]
        }
      ]
    },
    {
      "cell_type": "code",
      "execution_count": 6,
      "id": "bf9dcf4a",
      "metadata": {
        "id": "bf9dcf4a"
      },
      "outputs": [],
      "source": [
        "import tensorflow as tf\n",
        "from tensorflow.keras.preprocessing.image import ImageDataGenerator\n",
        "from tensorflow.keras.models import Sequential\n",
        "from tensorflow.keras.layers import Conv2D, MaxPooling2D, Flatten, Dense, Dropout\n",
        "import matplotlib.pyplot as plt\n",
        "from tensorflow.keras.callbacks import EarlyStopping, ReduceLROnPlateau, ModelCheckpoint, Callback"
      ]
    },
    {
      "cell_type": "code",
      "source": [
        "from google.colab import drive\n",
        "drive.mount('/content/drive')"
      ],
      "metadata": {
        "colab": {
          "base_uri": "https://localhost:8080/"
        },
        "id": "nQrGPdF1AgEQ",
        "outputId": "4e72276a-0abc-4f25-d63d-22f60afff408"
      },
      "id": "nQrGPdF1AgEQ",
      "execution_count": 7,
      "outputs": [
        {
          "output_type": "stream",
          "name": "stdout",
          "text": [
            "Mounted at /content/drive\n"
          ]
        }
      ]
    },
    {
      "cell_type": "code",
      "source": [
        "# Define paths\n",
        "train_dir = '/content/drive/MyDrive/Bangkit/data_split/train'\n",
        "val_dir = '/content/drive/MyDrive/Bangkit/data_split/val'"
      ],
      "metadata": {
        "id": "d3muqiDMAj0G"
      },
      "id": "d3muqiDMAj0G",
      "execution_count": 8,
      "outputs": []
    },
    {
      "cell_type": "markdown",
      "id": "4fa4390b",
      "metadata": {
        "id": "4fa4390b"
      },
      "source": [
        "## Preprocessing Data"
      ]
    },
    {
      "cell_type": "code",
      "execution_count": 9,
      "id": "7de3c901",
      "metadata": {
        "id": "7de3c901"
      },
      "outputs": [],
      "source": [
        "def train_val_generators(train_dir, val_dir):\n",
        "\n",
        "    train_datagen = ImageDataGenerator(\n",
        "        rescale=1./255,\n",
        "        width_shift_range=0.2,\n",
        "        height_shift_range=0.2,\n",
        "        shear_range=0.2,\n",
        "        zoom_range=0.2,\n",
        "        fill_mode='nearest'\n",
        "    )\n",
        "\n",
        "    validation_datagen = ImageDataGenerator(rescale=1./255)\n",
        "\n",
        "    train_generator = train_datagen.flow_from_directory(\n",
        "        train_dir,\n",
        "        target_size=(256, 256),\n",
        "        batch_size=32,\n",
        "        class_mode='binary'\n",
        "    )\n",
        "\n",
        "    validation_generator = validation_datagen.flow_from_directory(\n",
        "        val_dir,\n",
        "        target_size=(256, 256),\n",
        "        batch_size=32,\n",
        "        class_mode='binary'\n",
        "    )\n",
        "\n",
        "    return train_generator, validation_generator"
      ]
    },
    {
      "cell_type": "code",
      "source": [
        "train_generator, validation_generator = train_val_generators(train_dir, val_dir)"
      ],
      "metadata": {
        "colab": {
          "base_uri": "https://localhost:8080/"
        },
        "id": "2uY--muNCjy_",
        "outputId": "8873eb81-b06a-4e15-c24d-1678f86fc032"
      },
      "id": "2uY--muNCjy_",
      "execution_count": 10,
      "outputs": [
        {
          "output_type": "stream",
          "name": "stdout",
          "text": [
            "Found 812 images belonging to 2 classes.\n",
            "Found 374 images belonging to 2 classes.\n"
          ]
        }
      ]
    },
    {
      "cell_type": "code",
      "source": [
        "\n",
        "# print(\"Sample happy image:\")\n",
        "# plt.imshow(load_img(f\"{os.path.join(happy_dir, os.listdir(happy_dir)[0])}\"))\n",
        "# plt.show()\n",
        "\n",
        "# print(\"\\nSample sad image:\")\n",
        "# plt.imshow(load_img(f\"{os.path.join(sad_dir, os.listdir(sad_dir)[0])}\"))\n",
        "# plt.show()"
      ],
      "metadata": {
        "id": "gOUDtCyeJQyg"
      },
      "id": "gOUDtCyeJQyg",
      "execution_count": null,
      "outputs": []
    },
    {
      "cell_type": "markdown",
      "id": "8cb9f89c",
      "metadata": {
        "id": "8cb9f89c"
      },
      "source": [
        "## Membuat Model Tanpa Pretraining"
      ]
    },
    {
      "cell_type": "code",
      "execution_count": 12,
      "id": "ab3d27a1",
      "metadata": {
        "id": "ab3d27a1"
      },
      "outputs": [],
      "source": [
        "    model = tf.keras.Sequential([\n",
        "        tf.keras.layers.Conv2D(32, (3, 3), activation='relu', input_shape=(256, 256, 3)),\n",
        "        tf.keras.layers.MaxPooling2D((2, 2)),\n",
        "        tf.keras.layers.Conv2D(64, (3, 3), activation='relu'),\n",
        "        tf.keras.layers.MaxPooling2D((2, 2)),\n",
        "        tf.keras.layers.Conv2D(128, (3, 3), activation='relu'),\n",
        "        tf.keras.layers.MaxPooling2D((2, 2)),\n",
        "        tf.keras.layers.Flatten(),\n",
        "        tf.keras.layers.Dense(512, activation='relu'),\n",
        "        tf.keras.layers.Dropout(0.5),  # Add dropout for regularization\n",
        "        tf.keras.layers.Dense(1, activation='sigmoid')\n",
        "    ])\n",
        "\n",
        "\n",
        "    model.compile(loss='binary_crossentropy',\n",
        "                  optimizer=tf.keras.optimizers.Adam(learning_rate=0.001),\n",
        "                  metrics=['accuracy'])\n"
      ]
    },
    {
      "cell_type": "markdown",
      "id": "e7f47c29",
      "metadata": {
        "id": "e7f47c29"
      },
      "source": [
        "## Melatih Model"
      ]
    },
    {
      "cell_type": "code",
      "source": [
        "  # Add custom callback to stop after accuracy > 99%\n",
        "  class EarlyStoppingByAccuracy(Callback):\n",
        "      def on_epoch_end(self, epoch, logs=None):\n",
        "          accuracy = logs.get(\"accuracy\")\n",
        "          if accuracy is not None and accuracy > 0.99:\n",
        "              print(f\"\\nAccuracy reached {accuracy * 100:.2f}%, stopping training.\")\n",
        "              self.model.stop_training = True"
      ],
      "metadata": {
        "id": "qjMYUclRFkkK"
      },
      "id": "qjMYUclRFkkK",
      "execution_count": 13,
      "outputs": []
    },
    {
      "cell_type": "code",
      "source": [
        "callbacks = [\n",
        "    EarlyStopping(monitor='val_loss', patience=5, verbose=1, mode='min'),\n",
        "    ReduceLROnPlateau(monitor='val_loss', factor=0.1, patience=5, verbose=1, mode='min'),\n",
        "    EarlyStoppingByAccuracy()\n",
        "]"
      ],
      "metadata": {
        "id": "Bb9PACjrBRFF"
      },
      "id": "Bb9PACjrBRFF",
      "execution_count": 14,
      "outputs": []
    },
    {
      "cell_type": "code",
      "execution_count": 15,
      "id": "0ce32c06",
      "metadata": {
        "colab": {
          "base_uri": "https://localhost:8080/"
        },
        "id": "0ce32c06",
        "outputId": "12a3a45a-4695-400f-c77a-cf22d20ce2ac"
      },
      "outputs": [
        {
          "output_type": "stream",
          "name": "stdout",
          "text": [
            "Epoch 1/50\n",
            "25/25 [==============================] - 293s 12s/step - loss: 0.9159 - accuracy: 0.5308 - val_loss: 0.7017 - val_accuracy: 0.4631 - lr: 0.0010\n",
            "Epoch 2/50\n",
            "25/25 [==============================] - 18s 697ms/step - loss: 0.6952 - accuracy: 0.5359 - val_loss: 0.6929 - val_accuracy: 0.5312 - lr: 0.0010\n",
            "Epoch 3/50\n",
            "25/25 [==============================] - 17s 679ms/step - loss: 0.6932 - accuracy: 0.5205 - val_loss: 0.6937 - val_accuracy: 0.4631 - lr: 0.0010\n",
            "Epoch 4/50\n",
            "25/25 [==============================] - 19s 764ms/step - loss: 0.6927 - accuracy: 0.5231 - val_loss: 0.6940 - val_accuracy: 0.5000 - lr: 0.0010\n",
            "Epoch 5/50\n",
            "25/25 [==============================] - 19s 739ms/step - loss: 0.6975 - accuracy: 0.5475 - val_loss: 0.6846 - val_accuracy: 0.5369 - lr: 0.0010\n",
            "Epoch 6/50\n",
            "25/25 [==============================] - 17s 682ms/step - loss: 0.6962 - accuracy: 0.5333 - val_loss: 0.6912 - val_accuracy: 0.5199 - lr: 0.0010\n",
            "Epoch 7/50\n",
            "25/25 [==============================] - 18s 709ms/step - loss: 0.6841 - accuracy: 0.5577 - val_loss: 0.6438 - val_accuracy: 0.6847 - lr: 0.0010\n",
            "Epoch 8/50\n",
            "25/25 [==============================] - 17s 671ms/step - loss: 0.6744 - accuracy: 0.5808 - val_loss: 0.6406 - val_accuracy: 0.6165 - lr: 0.0010\n",
            "Epoch 9/50\n",
            "25/25 [==============================] - 18s 709ms/step - loss: 0.6863 - accuracy: 0.5423 - val_loss: 0.6800 - val_accuracy: 0.5199 - lr: 0.0010\n",
            "Epoch 10/50\n",
            "25/25 [==============================] - 17s 670ms/step - loss: 0.6762 - accuracy: 0.5590 - val_loss: 0.6541 - val_accuracy: 0.5852 - lr: 0.0010\n",
            "Epoch 11/50\n",
            "25/25 [==============================] - 16s 659ms/step - loss: 0.6467 - accuracy: 0.6179 - val_loss: 0.6375 - val_accuracy: 0.5824 - lr: 0.0010\n",
            "Epoch 12/50\n",
            "25/25 [==============================] - 17s 694ms/step - loss: 0.6051 - accuracy: 0.6615 - val_loss: 0.5644 - val_accuracy: 0.7386 - lr: 0.0010\n",
            "Epoch 13/50\n",
            "25/25 [==============================] - 17s 691ms/step - loss: 0.6027 - accuracy: 0.6769 - val_loss: 0.6520 - val_accuracy: 0.7244 - lr: 0.0010\n",
            "Epoch 14/50\n",
            "25/25 [==============================] - 18s 709ms/step - loss: 0.5794 - accuracy: 0.7256 - val_loss: 0.5780 - val_accuracy: 0.7159 - lr: 0.0010\n",
            "Epoch 15/50\n",
            "25/25 [==============================] - 16s 660ms/step - loss: 0.5608 - accuracy: 0.7244 - val_loss: 0.6720 - val_accuracy: 0.6420 - lr: 0.0010\n",
            "Epoch 16/50\n",
            "25/25 [==============================] - 17s 696ms/step - loss: 0.6115 - accuracy: 0.6808 - val_loss: 0.6189 - val_accuracy: 0.7273 - lr: 0.0010\n",
            "Epoch 17/50\n",
            "25/25 [==============================] - 17s 672ms/step - loss: 0.5543 - accuracy: 0.7192 - val_loss: 0.5600 - val_accuracy: 0.7244 - lr: 0.0010\n",
            "Epoch 18/50\n",
            "25/25 [==============================] - 17s 669ms/step - loss: 0.6061 - accuracy: 0.6538 - val_loss: 0.6231 - val_accuracy: 0.6364 - lr: 0.0010\n",
            "Epoch 19/50\n",
            "25/25 [==============================] - 17s 698ms/step - loss: 0.5945 - accuracy: 0.6782 - val_loss: 0.5403 - val_accuracy: 0.7784 - lr: 0.0010\n",
            "Epoch 20/50\n",
            "25/25 [==============================] - 17s 680ms/step - loss: 0.5378 - accuracy: 0.7321 - val_loss: 0.5531 - val_accuracy: 0.7500 - lr: 0.0010\n",
            "Epoch 21/50\n",
            "25/25 [==============================] - 16s 660ms/step - loss: 0.5285 - accuracy: 0.7372 - val_loss: 0.5446 - val_accuracy: 0.7557 - lr: 0.0010\n",
            "Epoch 22/50\n",
            "25/25 [==============================] - 18s 731ms/step - loss: 0.5648 - accuracy: 0.7077 - val_loss: 0.5125 - val_accuracy: 0.7784 - lr: 0.0010\n",
            "Epoch 23/50\n",
            "25/25 [==============================] - 17s 698ms/step - loss: 0.4997 - accuracy: 0.7628 - val_loss: 0.5711 - val_accuracy: 0.7756 - lr: 0.0010\n",
            "Epoch 24/50\n",
            "25/25 [==============================] - 17s 692ms/step - loss: 0.5552 - accuracy: 0.7269 - val_loss: 0.5369 - val_accuracy: 0.7585 - lr: 0.0010\n",
            "Epoch 25/50\n",
            "25/25 [==============================] - 17s 662ms/step - loss: 0.5462 - accuracy: 0.7436 - val_loss: 0.4989 - val_accuracy: 0.7812 - lr: 0.0010\n",
            "Epoch 26/50\n",
            "25/25 [==============================] - 18s 718ms/step - loss: 0.4620 - accuracy: 0.7808 - val_loss: 0.5422 - val_accuracy: 0.7642 - lr: 0.0010\n",
            "Epoch 27/50\n",
            "25/25 [==============================] - 16s 658ms/step - loss: 0.4495 - accuracy: 0.8000 - val_loss: 0.5040 - val_accuracy: 0.8011 - lr: 0.0010\n",
            "Epoch 28/50\n",
            "25/25 [==============================] - 16s 657ms/step - loss: 0.4012 - accuracy: 0.8372 - val_loss: 0.5492 - val_accuracy: 0.7926 - lr: 0.0010\n",
            "Epoch 29/50\n",
            "25/25 [==============================] - 16s 659ms/step - loss: 0.4287 - accuracy: 0.8013 - val_loss: 0.5429 - val_accuracy: 0.7955 - lr: 0.0010\n",
            "Epoch 30/50\n",
            "25/25 [==============================] - 17s 682ms/step - loss: 0.4540 - accuracy: 0.8179 - val_loss: 0.4908 - val_accuracy: 0.8097 - lr: 0.0010\n",
            "Epoch 31/50\n",
            "25/25 [==============================] - 17s 671ms/step - loss: 0.4429 - accuracy: 0.7910 - val_loss: 0.4593 - val_accuracy: 0.8267 - lr: 0.0010\n",
            "Epoch 32/50\n",
            "25/25 [==============================] - 18s 722ms/step - loss: 0.4093 - accuracy: 0.8163 - val_loss: 0.4730 - val_accuracy: 0.8352 - lr: 0.0010\n",
            "Epoch 33/50\n",
            "25/25 [==============================] - 18s 707ms/step - loss: 0.3871 - accuracy: 0.8308 - val_loss: 0.5687 - val_accuracy: 0.7983 - lr: 0.0010\n",
            "Epoch 34/50\n",
            "25/25 [==============================] - 18s 709ms/step - loss: 0.4245 - accuracy: 0.8128 - val_loss: 0.4122 - val_accuracy: 0.8409 - lr: 0.0010\n",
            "Epoch 35/50\n",
            "25/25 [==============================] - 17s 665ms/step - loss: 0.3989 - accuracy: 0.8244 - val_loss: 0.4913 - val_accuracy: 0.8267 - lr: 0.0010\n",
            "Epoch 36/50\n",
            "25/25 [==============================] - 18s 707ms/step - loss: 0.4251 - accuracy: 0.8026 - val_loss: 0.4340 - val_accuracy: 0.8011 - lr: 0.0010\n",
            "Epoch 37/50\n",
            "25/25 [==============================] - 17s 697ms/step - loss: 0.4282 - accuracy: 0.8026 - val_loss: 0.3862 - val_accuracy: 0.8438 - lr: 0.0010\n",
            "Epoch 38/50\n",
            "25/25 [==============================] - 18s 718ms/step - loss: 0.3952 - accuracy: 0.8410 - val_loss: 0.4125 - val_accuracy: 0.8352 - lr: 0.0010\n",
            "Epoch 39/50\n",
            "25/25 [==============================] - 17s 665ms/step - loss: 0.3717 - accuracy: 0.8397 - val_loss: 0.4050 - val_accuracy: 0.8580 - lr: 0.0010\n",
            "Epoch 40/50\n",
            "25/25 [==============================] - 17s 665ms/step - loss: 0.3751 - accuracy: 0.8321 - val_loss: 0.3973 - val_accuracy: 0.8352 - lr: 0.0010\n",
            "Epoch 41/50\n",
            "25/25 [==============================] - 17s 663ms/step - loss: 0.3812 - accuracy: 0.8436 - val_loss: 0.4954 - val_accuracy: 0.7756 - lr: 0.0010\n",
            "Epoch 42/50\n",
            "25/25 [==============================] - ETA: 0s - loss: 0.3461 - accuracy: 0.8397\n",
            "Epoch 42: ReduceLROnPlateau reducing learning rate to 0.00010000000474974513.\n",
            "25/25 [==============================] - 17s 675ms/step - loss: 0.3461 - accuracy: 0.8397 - val_loss: 0.4157 - val_accuracy: 0.8295 - lr: 0.0010\n",
            "Epoch 42: early stopping\n"
          ]
        }
      ],
      "source": [
        "\n",
        "history = model.fit(\n",
        "    train_generator,\n",
        "    steps_per_epoch=train_generator.samples // train_generator.batch_size,\n",
        "    validation_data=validation_generator,\n",
        "    validation_steps=validation_generator.samples // validation_generator.batch_size,\n",
        "    epochs=50,\n",
        "    callbacks=callbacks\n",
        ")\n"
      ]
    },
    {
      "cell_type": "code",
      "source": [
        "loss_model, accuracy_model = model.evaluate(validation_generator, steps=validation_generator.samples // validation_generator.batch_size)\n",
        "print(f\"Model Validation Accuracy: {accuracy_model * 100:.2f}%\")"
      ],
      "metadata": {
        "colab": {
          "base_uri": "https://localhost:8080/"
        },
        "id": "AUHmcW1Pb7YW",
        "outputId": "3d1ca302-9d9b-4dc4-9821-22013d294b6f"
      },
      "id": "AUHmcW1Pb7YW",
      "execution_count": 16,
      "outputs": [
        {
          "output_type": "stream",
          "name": "stdout",
          "text": [
            "11/11 [==============================] - 2s 150ms/step - loss: 0.4057 - accuracy: 0.8352\n",
            "Model Validation Accuracy: 83.52%\n"
          ]
        }
      ]
    }
  ],
  "metadata": {
    "colab": {
      "provenance": [],
      "gpuType": "T4"
    },
    "language_info": {
      "name": "python"
    },
    "kernelspec": {
      "name": "python3",
      "display_name": "Python 3"
    },
    "accelerator": "GPU"
  },
  "nbformat": 4,
  "nbformat_minor": 5
}